{
 "cells": [
  {
   "cell_type": "code",
   "execution_count": 1,
   "id": "ae7a7012-327c-4108-a870-9fa831f99039",
   "metadata": {},
   "outputs": [],
   "source": [
    "# pip install keras"
   ]
  },
  {
   "cell_type": "code",
   "execution_count": 2,
   "id": "98b75fdf-e19f-4d65-9df7-9e6f9fe45aad",
   "metadata": {},
   "outputs": [],
   "source": [
    "# pip install tensorflow"
   ]
  },
  {
   "cell_type": "raw",
   "id": "64c1ee19-614e-4ce9-b14d-44175693a9ee",
   "metadata": {},
   "source": [
    "Building the LSTM Model "
   ]
  },
  {
   "cell_type": "code",
   "execution_count": 3,
   "id": "1a9b7cc7-ecba-41d7-8901-7b0aeeb50018",
   "metadata": {},
   "outputs": [],
   "source": [
    "import pandas as pd\n",
    "import matplotlib.pyplot as plt \n",
    "import numpy as np\n",
    "from sklearn.preprocessing import MinMaxScaler"
   ]
  },
  {
   "cell_type": "code",
   "execution_count": 4,
   "id": "b19d7b50-8818-48df-a699-274e9231c0ee",
   "metadata": {},
   "outputs": [
    {
     "data": {
      "text/html": [
       "<div>\n",
       "<style scoped>\n",
       "    .dataframe tbody tr th:only-of-type {\n",
       "        vertical-align: middle;\n",
       "    }\n",
       "\n",
       "    .dataframe tbody tr th {\n",
       "        vertical-align: top;\n",
       "    }\n",
       "\n",
       "    .dataframe thead th {\n",
       "        text-align: right;\n",
       "    }\n",
       "</style>\n",
       "<table border=\"1\" class=\"dataframe\">\n",
       "  <thead>\n",
       "    <tr style=\"text-align: right;\">\n",
       "      <th></th>\n",
       "      <th>Date</th>\n",
       "      <th>Price</th>\n",
       "    </tr>\n",
       "  </thead>\n",
       "  <tbody>\n",
       "    <tr>\n",
       "      <th>0</th>\n",
       "      <td>2014-01-01</td>\n",
       "      <td>38.21</td>\n",
       "    </tr>\n",
       "    <tr>\n",
       "      <th>1</th>\n",
       "      <td>2014-01-02</td>\n",
       "      <td>37.61</td>\n",
       "    </tr>\n",
       "    <tr>\n",
       "      <th>2</th>\n",
       "      <td>2014-01-03</td>\n",
       "      <td>37.01</td>\n",
       "    </tr>\n",
       "    <tr>\n",
       "      <th>3</th>\n",
       "      <td>2014-01-06</td>\n",
       "      <td>36.63</td>\n",
       "    </tr>\n",
       "    <tr>\n",
       "      <th>4</th>\n",
       "      <td>2014-01-07</td>\n",
       "      <td>35.41</td>\n",
       "    </tr>\n",
       "  </tbody>\n",
       "</table>\n",
       "</div>"
      ],
      "text/plain": [
       "         Date  Price\n",
       "0  2014-01-01  38.21\n",
       "1  2014-01-02  37.61\n",
       "2  2014-01-03  37.01\n",
       "3  2014-01-06  36.63\n",
       "4  2014-01-07  35.41"
      ]
     },
     "execution_count": 4,
     "metadata": {},
     "output_type": "execute_result"
    }
   ],
   "source": [
    "df = pd.read_csv('model_curr.csv')\n",
    "df.head()"
   ]
  },
  {
   "cell_type": "code",
   "execution_count": 5,
   "id": "ba9c91bc-6ded-4d22-88b2-aae93513d542",
   "metadata": {},
   "outputs": [
    {
     "data": {
      "text/html": [
       "<div>\n",
       "<style scoped>\n",
       "    .dataframe tbody tr th:only-of-type {\n",
       "        vertical-align: middle;\n",
       "    }\n",
       "\n",
       "    .dataframe tbody tr th {\n",
       "        vertical-align: top;\n",
       "    }\n",
       "\n",
       "    .dataframe thead th {\n",
       "        text-align: right;\n",
       "    }\n",
       "</style>\n",
       "<table border=\"1\" class=\"dataframe\">\n",
       "  <thead>\n",
       "    <tr style=\"text-align: right;\">\n",
       "      <th></th>\n",
       "      <th>Date</th>\n",
       "      <th>Price</th>\n",
       "    </tr>\n",
       "  </thead>\n",
       "  <tbody>\n",
       "    <tr>\n",
       "      <th>2575</th>\n",
       "      <td>2024-05-31</td>\n",
       "      <td>167.20</td>\n",
       "    </tr>\n",
       "    <tr>\n",
       "      <th>2576</th>\n",
       "      <td>2024-06-03</td>\n",
       "      <td>174.25</td>\n",
       "    </tr>\n",
       "    <tr>\n",
       "      <th>2577</th>\n",
       "      <td>2024-06-04</td>\n",
       "      <td>158.95</td>\n",
       "    </tr>\n",
       "    <tr>\n",
       "      <th>2578</th>\n",
       "      <td>2024-06-05</td>\n",
       "      <td>169.20</td>\n",
       "    </tr>\n",
       "    <tr>\n",
       "      <th>2579</th>\n",
       "      <td>2024-06-06</td>\n",
       "      <td>172.05</td>\n",
       "    </tr>\n",
       "  </tbody>\n",
       "</table>\n",
       "</div>"
      ],
      "text/plain": [
       "            Date   Price\n",
       "2575  2024-05-31  167.20\n",
       "2576  2024-06-03  174.25\n",
       "2577  2024-06-04  158.95\n",
       "2578  2024-06-05  169.20\n",
       "2579  2024-06-06  172.05"
      ]
     },
     "execution_count": 5,
     "metadata": {},
     "output_type": "execute_result"
    }
   ],
   "source": [
    "df.tail()"
   ]
  },
  {
   "cell_type": "code",
   "execution_count": 6,
   "id": "58afb003-b5ee-4061-a60d-4af3e29e97dc",
   "metadata": {},
   "outputs": [
    {
     "data": {
      "text/plain": [
       "0        38.21\n",
       "1        37.61\n",
       "2        37.01\n",
       "3        36.63\n",
       "4        35.41\n",
       "         ...  \n",
       "2575    167.20\n",
       "2576    174.25\n",
       "2577    158.95\n",
       "2578    169.20\n",
       "2579    172.05\n",
       "Name: Price, Length: 2580, dtype: float64"
      ]
     },
     "execution_count": 6,
     "metadata": {},
     "output_type": "execute_result"
    }
   ],
   "source": [
    "cop = df.reset_index()['Price']\n",
    "cop"
   ]
  },
  {
   "cell_type": "code",
   "execution_count": 7,
   "id": "715a2322-268a-4d3b-bf64-99d79f7ef14e",
   "metadata": {},
   "outputs": [
    {
     "data": {
      "text/plain": [
       "[<matplotlib.lines.Line2D at 0x2c1fc12fd70>]"
      ]
     },
     "execution_count": 7,
     "metadata": {},
     "output_type": "execute_result"
    },
    {
     "data": {
      "image/png": "[encoded data removed]",
      "text/plain": [
       "<Figure size 640x480 with 1 Axes>"
      ]
     },
     "metadata": {},
     "output_type": "display_data"
    }
   ],
   "source": [
    "plt.plot(cop)"
   ]
  },
  {
   "cell_type": "code",
   "execution_count": 8,
   "id": "37663adb-c9dc-48cc-a5f2-c994cf85edf8",
   "metadata": {},
   "outputs": [],
   "source": [
    "#!LSTM are sensitive to the scale of the data, so we apply MinMaxScaler\n",
    "scaler = MinMaxScaler(feature_range=(0,1))\n",
    "cop = scaler.fit_transform(np.array(cop).reshape(-1,1))"
   ]
  },
  {
   "cell_type": "code",
   "execution_count": 9,
   "id": "9b8590e5-7ba3-4110-9fbd-f7d5c2792405",
   "metadata": {},
   "outputs": [
    {
     "data": {
      "text/plain": [
       "array([[0.12792987],\n",
       "       [0.12411866],\n",
       "       [0.12030744],\n",
       "       ...,\n",
       "       [0.89487391],\n",
       "       [0.95998221],\n",
       "       [0.9780855 ]])"
      ]
     },
     "execution_count": 9,
     "metadata": {},
     "output_type": "execute_result"
    }
   ],
   "source": [
    "cop"
   ]
  },
  {
   "cell_type": "code",
   "execution_count": 10,
   "id": "48aa167a-dd22-4cef-8458-8b84d08ff013",
   "metadata": {},
   "outputs": [
    {
     "data": {
      "text/plain": [
       "2580"
      ]
     },
     "execution_count": 10,
     "metadata": {},
     "output_type": "execute_result"
    }
   ],
   "source": [
    "len(cop)"
   ]
  },
  {
   "cell_type": "code",
   "execution_count": 11,
   "id": "e7db7830-82f8-4033-b098-c905c2919f67",
   "metadata": {},
   "outputs": [],
   "source": [
    "trainingSize = int(len(cop)*0.80)\n",
    "testSize = len(cop)-trainingSize\n",
    "\n",
    "train_data, test_data = cop[0:trainingSize,:],cop[trainingSize:len(cop),:1]"
   ]
  },
  {
   "cell_type": "code",
   "execution_count": 12,
   "id": "d82c056b-0cd7-4791-835d-d9392c22b711",
   "metadata": {},
   "outputs": [
    {
     "data": {
      "text/plain": [
       "(2064, 516)"
      ]
     },
     "execution_count": 12,
     "metadata": {},
     "output_type": "execute_result"
    }
   ],
   "source": [
    "len(train_data),len(test_data)"
   ]
  },
  {
   "cell_type": "code",
   "execution_count": 13,
   "id": "ef04aca0-f62c-4b4d-9754-302e0b49d337",
   "metadata": {},
   "outputs": [],
   "source": [
    "#transforming time series data into a format suitable for training and testing an LSTM model.\n",
    "def create_data(data,time_step):\n",
    "    X, y = [],[]\n",
    "    for i in range(len(data)-time_step-1):\n",
    "        a = data[i:(i+time_step),0]\n",
    "        b = data[i+time_step,0]\n",
    "        X.append(a)\n",
    "        y.append(b)\n",
    "\n",
    "    return np.array(X), np.array(y)"
   ]
  },
  {
   "cell_type": "code",
   "execution_count": 14,
   "id": "39d5ab80-c191-464a-8f7a-c5ef5d218c99",
   "metadata": {},
   "outputs": [],
   "source": [
    "time_step = 450\n",
    "X_train, y_train = create_data(train_data,time_step)\n",
    "X_test, y_test = create_data(test_data,time_step)"
   ]
  },
  {
   "cell_type": "code",
   "execution_count": 15,
   "id": "dcc63627-3c6b-4496-a506-45c62b9de1f6",
   "metadata": {},
   "outputs": [
    {
     "name": "stdout",
     "output_type": "stream",
     "text": [
      "(1613, 450)\n",
      "(65, 450)\n"
     ]
    },
    {
     "data": {
      "text/plain": [
       "(None, None)"
      ]
     },
     "execution_count": 15,
     "metadata": {},
     "output_type": "execute_result"
    }
   ],
   "source": [
    "print(X_train.shape), print(X_test.shape)"
   ]
  },
  {
   "cell_type": "code",
   "execution_count": 16,
   "id": "38d99f5d-9f6b-4510-b1b0-291a83c09c71",
   "metadata": {},
   "outputs": [],
   "source": [
    "X_train = X_train.reshape(X_train.shape[0],X_train.shape[1],1)\n",
    "X_test = X_test.reshape(X_test.shape[0],X_test.shape[1],1)"
   ]
  },
  {
   "cell_type": "code",
   "execution_count": 17,
   "id": "ceff4f6b-6836-48b7-94ad-62d5f0a1b922",
   "metadata": {},
   "outputs": [],
   "source": [
    "from tensorflow.keras.models import Sequential\n",
    "from tensorflow.keras.layers import Dense,Dropout\n",
    "from tensorflow.keras.layers import LSTM\n",
    "from tensorflow.keras.layers import Input\n",
    "from tensorflow.keras.models import Model"
   ]
  },
  {
   "cell_type": "code",
   "execution_count": 18,
   "id": "b0e1fa76-2b1e-47f3-bcb8-eeb779276935",
   "metadata": {},
   "outputs": [],
   "source": [
    "def buildModel(input_shape):\n",
    "    input_layer = Input(shape=input_shape)\n",
    "    model = LSTM(units=128,return_sequences=True)(input_layer)\n",
    "    model = Dropout(0.2)(model) \n",
    "    model = LSTM(units=128,return_sequences=True)(model)\n",
    "    model = Dropout(0.2)(model)\n",
    "    model = LSTM(units=128,return_sequences=False)(model)#the goal is to predict a single value (the stock price for the next day)\n",
    "    model = Dropout(0.2)(model)\n",
    "    model = Dense(64,activation='relu')(model)\n",
    "    model = Dropout(0.2)(model) #added, prevents overfitting\n",
    "    model = Dense(64,activation='relu')(model) #creating 64 neurons \n",
    "    output_layer = Dense(1)(model)\n",
    "    neuron = Model(inputs=input_layer,outputs=output_layer)\n",
    "    neuron.compile(loss='mean_squared_error',optimizer='adam')#measure the difference between the model's predictions and the actual stock prices.\n",
    "    return neuron"
   ]
  },
  {
   "cell_type": "code",
   "execution_count": 19,
   "id": "abc52ad7-5923-46d0-883c-da5b9ab26529",
   "metadata": {},
   "outputs": [
    {
     "data": {
      "text/html": [
       "<pre style=\"white-space:pre;overflow-x:auto;line-height:normal;font-family:Menlo,'DejaVu Sans Mono',consolas,'Courier New',monospace\"><span style=\"font-weight: bold\">Model: \"functional_1\"</span>\n",
       "</pre>\n"
      ],
      "text/plain": [
       "\u001b[1mModel: \"functional_1\"\u001b[0m\n"
      ]
     },
     "metadata": {},
     "output_type": "display_data"
    },
    {
     "data": {
      "text/html": [
       "<pre style=\"white-space:pre;overflow-x:auto;line-height:normal;font-family:Menlo,'DejaVu Sans Mono',consolas,'Courier New',monospace\">┏━━━━━━━━━━━━━━━━━━━━━━━━━━━━━━━━━━━━━━┳━━━━━━━━━━━━━━━━━━━━━━━━━━━━━┳━━━━━━━━━━━━━━━━━┓\n",
       "┃<span style=\"font-weight: bold\"> Layer (type)                         </span>┃<span style=\"font-weight: bold\"> Output Shape                </span>┃<span style=\"font-weight: bold\">         Param # </span>┃\n",
       "┡━━━━━━━━━━━━━━━━━━━━━━━━━━━━━━━━━━━━━━╇━━━━━━━━━━━━━━━━━━━━━━━━━━━━━╇━━━━━━━━━━━━━━━━━┩\n",
       "│ input_layer (<span style=\"color: #0087ff; text-decoration-color: #0087ff\">InputLayer</span>)             │ (<span style=\"color: #00d7ff; text-decoration-color: #00d7ff\">None</span>, <span style=\"color: #00af00; text-decoration-color: #00af00\">450</span>, <span style=\"color: #00af00; text-decoration-color: #00af00\">1</span>)              │               <span style=\"color: #00af00; text-decoration-color: #00af00\">0</span> │\n",
       "├──────────────────────────────────────┼─────────────────────────────┼─────────────────┤\n",
       "│ lstm (<span style=\"color: #0087ff; text-decoration-color: #0087ff\">LSTM</span>)                          │ (<span style=\"color: #00d7ff; text-decoration-color: #00d7ff\">None</span>, <span style=\"color: #00af00; text-decoration-color: #00af00\">450</span>, <span style=\"color: #00af00; text-decoration-color: #00af00\">128</span>)            │          <span style=\"color: #00af00; text-decoration-color: #00af00\">66,560</span> │\n",
       "├──────────────────────────────────────┼─────────────────────────────┼─────────────────┤\n",
       "│ dropout (<span style=\"color: #0087ff; text-decoration-color: #0087ff\">Dropout</span>)                    │ (<span style=\"color: #00d7ff; text-decoration-color: #00d7ff\">None</span>, <span style=\"color: #00af00; text-decoration-color: #00af00\">450</span>, <span style=\"color: #00af00; text-decoration-color: #00af00\">128</span>)            │               <span style=\"color: #00af00; text-decoration-color: #00af00\">0</span> │\n",
       "├──────────────────────────────────────┼─────────────────────────────┼─────────────────┤\n",
       "│ lstm_1 (<span style=\"color: #0087ff; text-decoration-color: #0087ff\">LSTM</span>)                        │ (<span style=\"color: #00d7ff; text-decoration-color: #00d7ff\">None</span>, <span style=\"color: #00af00; text-decoration-color: #00af00\">450</span>, <span style=\"color: #00af00; text-decoration-color: #00af00\">128</span>)            │         <span style=\"color: #00af00; text-decoration-color: #00af00\">131,584</span> │\n",
       "├──────────────────────────────────────┼─────────────────────────────┼─────────────────┤\n",
       "│ dropout_1 (<span style=\"color: #0087ff; text-decoration-color: #0087ff\">Dropout</span>)                  │ (<span style=\"color: #00d7ff; text-decoration-color: #00d7ff\">None</span>, <span style=\"color: #00af00; text-decoration-color: #00af00\">450</span>, <span style=\"color: #00af00; text-decoration-color: #00af00\">128</span>)            │               <span style=\"color: #00af00; text-decoration-color: #00af00\">0</span> │\n",
       "├──────────────────────────────────────┼─────────────────────────────┼─────────────────┤\n",
       "│ lstm_2 (<span style=\"color: #0087ff; text-decoration-color: #0087ff\">LSTM</span>)                        │ (<span style=\"color: #00d7ff; text-decoration-color: #00d7ff\">None</span>, <span style=\"color: #00af00; text-decoration-color: #00af00\">128</span>)                 │         <span style=\"color: #00af00; text-decoration-color: #00af00\">131,584</span> │\n",
       "├──────────────────────────────────────┼─────────────────────────────┼─────────────────┤\n",
       "│ dropout_2 (<span style=\"color: #0087ff; text-decoration-color: #0087ff\">Dropout</span>)                  │ (<span style=\"color: #00d7ff; text-decoration-color: #00d7ff\">None</span>, <span style=\"color: #00af00; text-decoration-color: #00af00\">128</span>)                 │               <span style=\"color: #00af00; text-decoration-color: #00af00\">0</span> │\n",
       "├──────────────────────────────────────┼─────────────────────────────┼─────────────────┤\n",
       "│ dense (<span style=\"color: #0087ff; text-decoration-color: #0087ff\">Dense</span>)                        │ (<span style=\"color: #00d7ff; text-decoration-color: #00d7ff\">None</span>, <span style=\"color: #00af00; text-decoration-color: #00af00\">64</span>)                  │           <span style=\"color: #00af00; text-decoration-color: #00af00\">8,256</span> │\n",
       "├──────────────────────────────────────┼─────────────────────────────┼─────────────────┤\n",
       "│ dropout_3 (<span style=\"color: #0087ff; text-decoration-color: #0087ff\">Dropout</span>)                  │ (<span style=\"color: #00d7ff; text-decoration-color: #00d7ff\">None</span>, <span style=\"color: #00af00; text-decoration-color: #00af00\">64</span>)                  │               <span style=\"color: #00af00; text-decoration-color: #00af00\">0</span> │\n",
       "├──────────────────────────────────────┼─────────────────────────────┼─────────────────┤\n",
       "│ dense_1 (<span style=\"color: #0087ff; text-decoration-color: #0087ff\">Dense</span>)                      │ (<span style=\"color: #00d7ff; text-decoration-color: #00d7ff\">None</span>, <span style=\"color: #00af00; text-decoration-color: #00af00\">64</span>)                  │           <span style=\"color: #00af00; text-decoration-color: #00af00\">4,160</span> │\n",
       "├──────────────────────────────────────┼─────────────────────────────┼─────────────────┤\n",
       "│ dense_2 (<span style=\"color: #0087ff; text-decoration-color: #0087ff\">Dense</span>)                      │ (<span style=\"color: #00d7ff; text-decoration-color: #00d7ff\">None</span>, <span style=\"color: #00af00; text-decoration-color: #00af00\">1</span>)                   │              <span style=\"color: #00af00; text-decoration-color: #00af00\">65</span> │\n",
       "└──────────────────────────────────────┴─────────────────────────────┴─────────────────┘\n",
       "</pre>\n"
      ],
      "text/plain": [
       "┏━━━━━━━━━━━━━━━━━━━━━━━━━━━━━━━━━━━━━━┳━━━━━━━━━━━━━━━━━━━━━━━━━━━━━┳━━━━━━━━━━━━━━━━━┓\n",
       "┃\u001b[1m \u001b[0m\u001b[1mLayer (type)                        \u001b[0m\u001b[1m \u001b[0m┃\u001b[1m \u001b[0m\u001b[1mOutput Shape               \u001b[0m\u001b[1m \u001b[0m┃\u001b[1m \u001b[0m\u001b[1m        Param #\u001b[0m\u001b[1m \u001b[0m┃\n",
       "┡━━━━━━━━━━━━━━━━━━━━━━━━━━━━━━━━━━━━━━╇━━━━━━━━━━━━━━━━━━━━━━━━━━━━━╇━━━━━━━━━━━━━━━━━┩\n",
       "│ input_layer (\u001b[38;5;33mInputLayer\u001b[0m)             │ (\u001b[38;5;45mNone\u001b[0m, \u001b[38;5;34m450\u001b[0m, \u001b[38;5;34m1\u001b[0m)              │               \u001b[38;5;34m0\u001b[0m │\n",
       "├──────────────────────────────────────┼─────────────────────────────┼─────────────────┤\n",
       "│ lstm (\u001b[38;5;33mLSTM\u001b[0m)                          │ (\u001b[38;5;45mNone\u001b[0m, \u001b[38;5;34m450\u001b[0m, \u001b[38;5;34m128\u001b[0m)            │          \u001b[38;5;34m66,560\u001b[0m │\n",
       "├──────────────────────────────────────┼─────────────────────────────┼─────────────────┤\n",
       "│ dropout (\u001b[38;5;33mDropout\u001b[0m)                    │ (\u001b[38;5;45mNone\u001b[0m, \u001b[38;5;34m450\u001b[0m, \u001b[38;5;34m128\u001b[0m)            │               \u001b[38;5;34m0\u001b[0m │\n",
       "├──────────────────────────────────────┼─────────────────────────────┼─────────────────┤\n",
       "│ lstm_1 (\u001b[38;5;33mLSTM\u001b[0m)                        │ (\u001b[38;5;45mNone\u001b[0m, \u001b[38;5;34m450\u001b[0m, \u001b[38;5;34m128\u001b[0m)            │         \u001b[38;5;34m131,584\u001b[0m │\n",
       "├──────────────────────────────────────┼─────────────────────────────┼─────────────────┤\n",
       "│ dropout_1 (\u001b[38;5;33mDropout\u001b[0m)                  │ (\u001b[38;5;45mNone\u001b[0m, \u001b[38;5;34m450\u001b[0m, \u001b[38;5;34m128\u001b[0m)            │               \u001b[38;5;34m0\u001b[0m │\n",
       "├──────────────────────────────────────┼─────────────────────────────┼─────────────────┤\n",
       "│ lstm_2 (\u001b[38;5;33mLSTM\u001b[0m)                        │ (\u001b[38;5;45mNone\u001b[0m, \u001b[38;5;34m128\u001b[0m)                 │         \u001b[38;5;34m131,584\u001b[0m │\n",
       "├──────────────────────────────────────┼─────────────────────────────┼─────────────────┤\n",
       "│ dropout_2 (\u001b[38;5;33mDropout\u001b[0m)                  │ (\u001b[38;5;45mNone\u001b[0m, \u001b[38;5;34m128\u001b[0m)                 │               \u001b[38;5;34m0\u001b[0m │\n",
       "├──────────────────────────────────────┼─────────────────────────────┼─────────────────┤\n",
       "│ dense (\u001b[38;5;33mDense\u001b[0m)                        │ (\u001b[38;5;45mNone\u001b[0m, \u001b[38;5;34m64\u001b[0m)                  │           \u001b[38;5;34m8,256\u001b[0m │\n",
       "├──────────────────────────────────────┼─────────────────────────────┼─────────────────┤\n",
       "│ dropout_3 (\u001b[38;5;33mDropout\u001b[0m)                  │ (\u001b[38;5;45mNone\u001b[0m, \u001b[38;5;34m64\u001b[0m)                  │               \u001b[38;5;34m0\u001b[0m │\n",
       "├──────────────────────────────────────┼─────────────────────────────┼─────────────────┤\n",
       "│ dense_1 (\u001b[38;5;33mDense\u001b[0m)                      │ (\u001b[38;5;45mNone\u001b[0m, \u001b[38;5;34m64\u001b[0m)                  │           \u001b[38;5;34m4,160\u001b[0m │\n",
       "├──────────────────────────────────────┼─────────────────────────────┼─────────────────┤\n",
       "│ dense_2 (\u001b[38;5;33mDense\u001b[0m)                      │ (\u001b[38;5;45mNone\u001b[0m, \u001b[38;5;34m1\u001b[0m)                   │              \u001b[38;5;34m65\u001b[0m │\n",
       "└──────────────────────────────────────┴─────────────────────────────┴─────────────────┘\n"
      ]
     },
     "metadata": {},
     "output_type": "display_data"
    },
    {
     "data": {
      "text/html": [
       "<pre style=\"white-space:pre;overflow-x:auto;line-height:normal;font-family:Menlo,'DejaVu Sans Mono',consolas,'Courier New',monospace\"><span style=\"font-weight: bold\"> Total params: </span><span style=\"color: #00af00; text-decoration-color: #00af00\">342,209</span> (1.31 MB)\n",
       "</pre>\n"
      ],
      "text/plain": [
       "\u001b[1m Total params: \u001b[0m\u001b[38;5;34m342,209\u001b[0m (1.31 MB)\n"
      ]
     },
     "metadata": {},
     "output_type": "display_data"
    },
    {
     "data": {
      "text/html": [
       "<pre style=\"white-space:pre;overflow-x:auto;line-height:normal;font-family:Menlo,'DejaVu Sans Mono',consolas,'Courier New',monospace\"><span style=\"font-weight: bold\"> Trainable params: </span><span style=\"color: #00af00; text-decoration-color: #00af00\">342,209</span> (1.31 MB)\n",
       "</pre>\n"
      ],
      "text/plain": [
       "\u001b[1m Trainable params: \u001b[0m\u001b[38;5;34m342,209\u001b[0m (1.31 MB)\n"
      ]
     },
     "metadata": {},
     "output_type": "display_data"
    },
    {
     "data": {
      "text/html": [
       "<pre style=\"white-space:pre;overflow-x:auto;line-height:normal;font-family:Menlo,'DejaVu Sans Mono',consolas,'Courier New',monospace\"><span style=\"font-weight: bold\"> Non-trainable params: </span><span style=\"color: #00af00; text-decoration-color: #00af00\">0</span> (0.00 B)\n",
       "</pre>\n"
      ],
      "text/plain": [
       "\u001b[1m Non-trainable params: \u001b[0m\u001b[38;5;34m0\u001b[0m (0.00 B)\n"
      ]
     },
     "metadata": {},
     "output_type": "display_data"
    }
   ],
   "source": [
    "clf = buildModel((450,1))\n",
    "clf.summary()\n",
    "# detailed overview of the model's architecture"
   ]
  },
  {
   "cell_type": "code",
   "execution_count": 20,
   "id": "10b99c48-78bc-4428-b37f-c0cbde70a9f6",
   "metadata": {},
   "outputs": [
    {
     "name": "stdout",
     "output_type": "stream",
     "text": [
      "Epoch 1/20\n",
      "\u001b[1m26/26\u001b[0m \u001b[32m━━━━━━━━━━━━━━━━━━━━\u001b[0m\u001b[37m\u001b[0m \u001b[1m34s\u001b[0m 1s/step - loss: 0.0350 - val_loss: 0.0069\n",
      "Epoch 2/20\n",
      "\u001b[1m26/26\u001b[0m \u001b[32m━━━━━━━━━━━━━━━━━━━━\u001b[0m\u001b[37m\u001b[0m \u001b[1m32s\u001b[0m 1s/step - loss: 0.0038 - val_loss: 0.0246\n",
      "Epoch 3/20\n",
      "\u001b[1m26/26\u001b[0m \u001b[32m━━━━━━━━━━━━━━━━━━━━\u001b[0m\u001b[37m\u001b[0m \u001b[1m36s\u001b[0m 1s/step - loss: 0.0027 - val_loss: 0.0067\n",
      "Epoch 4/20\n",
      "\u001b[1m26/26\u001b[0m \u001b[32m━━━━━━━━━━━━━━━━━━━━\u001b[0m\u001b[37m\u001b[0m \u001b[1m38s\u001b[0m 1s/step - loss: 0.0021 - val_loss: 0.0156\n",
      "Epoch 5/20\n",
      "\u001b[1m26/26\u001b[0m \u001b[32m━━━━━━━━━━━━━━━━━━━━\u001b[0m\u001b[37m\u001b[0m \u001b[1m37s\u001b[0m 1s/step - loss: 0.0016 - val_loss: 0.0168\n",
      "Epoch 6/20\n",
      "\u001b[1m26/26\u001b[0m \u001b[32m━━━━━━━━━━━━━━━━━━━━\u001b[0m\u001b[37m\u001b[0m \u001b[1m38s\u001b[0m 1s/step - loss: 0.0018 - val_loss: 0.0043\n",
      "Epoch 7/20\n",
      "\u001b[1m26/26\u001b[0m \u001b[32m━━━━━━━━━━━━━━━━━━━━\u001b[0m\u001b[37m\u001b[0m \u001b[1m37s\u001b[0m 1s/step - loss: 0.0018 - val_loss: 0.0091\n",
      "Epoch 8/20\n",
      "\u001b[1m26/26\u001b[0m \u001b[32m━━━━━━━━━━━━━━━━━━━━\u001b[0m\u001b[37m\u001b[0m \u001b[1m38s\u001b[0m 1s/step - loss: 0.0021 - val_loss: 0.0459\n",
      "Epoch 9/20\n",
      "\u001b[1m26/26\u001b[0m \u001b[32m━━━━━━━━━━━━━━━━━━━━\u001b[0m\u001b[37m\u001b[0m \u001b[1m39s\u001b[0m 1s/step - loss: 0.0018 - val_loss: 0.0050\n",
      "Epoch 10/20\n",
      "\u001b[1m26/26\u001b[0m \u001b[32m━━━━━━━━━━━━━━━━━━━━\u001b[0m\u001b[37m\u001b[0m \u001b[1m37s\u001b[0m 1s/step - loss: 0.0015 - val_loss: 0.0192\n",
      "Epoch 11/20\n",
      "\u001b[1m26/26\u001b[0m \u001b[32m━━━━━━━━━━━━━━━━━━━━\u001b[0m\u001b[37m\u001b[0m \u001b[1m38s\u001b[0m 1s/step - loss: 0.0016 - val_loss: 0.0104\n",
      "Epoch 12/20\n",
      "\u001b[1m26/26\u001b[0m \u001b[32m━━━━━━━━━━━━━━━━━━━━\u001b[0m\u001b[37m\u001b[0m \u001b[1m39s\u001b[0m 1s/step - loss: 0.0014 - val_loss: 0.0122\n",
      "Epoch 13/20\n",
      "\u001b[1m26/26\u001b[0m \u001b[32m━━━━━━━━━━━━━━━━━━━━\u001b[0m\u001b[37m\u001b[0m \u001b[1m41s\u001b[0m 2s/step - loss: 0.0014 - val_loss: 0.0242\n",
      "Epoch 14/20\n",
      "\u001b[1m26/26\u001b[0m \u001b[32m━━━━━━━━━━━━━━━━━━━━\u001b[0m\u001b[37m\u001b[0m \u001b[1m39s\u001b[0m 1s/step - loss: 0.0012 - val_loss: 0.0154\n",
      "Epoch 15/20\n",
      "\u001b[1m26/26\u001b[0m \u001b[32m━━━━━━━━━━━━━━━━━━━━\u001b[0m\u001b[37m\u001b[0m \u001b[1m39s\u001b[0m 2s/step - loss: 0.0010 - val_loss: 0.0179\n",
      "Epoch 16/20\n",
      "\u001b[1m26/26\u001b[0m \u001b[32m━━━━━━━━━━━━━━━━━━━━\u001b[0m\u001b[37m\u001b[0m \u001b[1m40s\u001b[0m 2s/step - loss: 0.0011 - val_loss: 0.0224\n",
      "Epoch 17/20\n",
      "\u001b[1m26/26\u001b[0m \u001b[32m━━━━━━━━━━━━━━━━━━━━\u001b[0m\u001b[37m\u001b[0m \u001b[1m40s\u001b[0m 2s/step - loss: 0.0010 - val_loss: 0.0241\n",
      "Epoch 18/20\n",
      "\u001b[1m26/26\u001b[0m \u001b[32m━━━━━━━━━━━━━━━━━━━━\u001b[0m\u001b[37m\u001b[0m \u001b[1m41s\u001b[0m 2s/step - loss: 9.9914e-04 - val_loss: 0.0389\n",
      "Epoch 19/20\n",
      "\u001b[1m26/26\u001b[0m \u001b[32m━━━━━━━━━━━━━━━━━━━━\u001b[0m\u001b[37m\u001b[0m \u001b[1m38s\u001b[0m 1s/step - loss: 0.0010 - val_loss: 0.0345\n",
      "Epoch 20/20\n",
      "\u001b[1m26/26\u001b[0m \u001b[32m━━━━━━━━━━━━━━━━━━━━\u001b[0m\u001b[37m\u001b[0m \u001b[1m38s\u001b[0m 1s/step - loss: 9.4345e-04 - val_loss: 0.0306\n"
     ]
    }
   ],
   "source": [
    "hist = clf.fit(X_train,y_train,validation_data=(X_test,y_test),epochs=20,batch_size=64)"
   ]
  },
  {
   "cell_type": "code",
   "execution_count": 21,
   "id": "d7551939-9b06-4714-bda1-82b572a80965",
   "metadata": {},
   "outputs": [
    {
     "data": {
      "image/png": "[encoded data removed]",
      "text/plain": [
       "<Figure size 640x480 with 1 Axes>"
      ]
     },
     "metadata": {},
     "output_type": "display_data"
    }
   ],
   "source": [
    "plt.plot(hist.history['loss'],label='Training Loss')\n",
    "plt.plot(hist.history['val_loss'],label='Validation Loss')\n",
    "plt.legend()\n",
    "plt.show()"
   ]
  },
  {
   "cell_type": "code",
   "execution_count": 22,
   "id": "20ef104f-607d-4b5a-a38c-92b9b271fd68",
   "metadata": {},
   "outputs": [
    {
     "name": "stdout",
     "output_type": "stream",
     "text": [
      "\u001b[1m51/51\u001b[0m \u001b[32m━━━━━━━━━━━━━━━━━━━━\u001b[0m\u001b[37m\u001b[0m \u001b[1m8s\u001b[0m 148ms/step\n",
      "\u001b[1m3/3\u001b[0m \u001b[32m━━━━━━━━━━━━━━━━━━━━\u001b[0m\u001b[37m\u001b[0m \u001b[1m0s\u001b[0m 103ms/step\n"
     ]
    }
   ],
   "source": [
    "#after trainiing model we are assigning to these variables the predictions\n",
    "train_predict=clf.predict(X_train)\n",
    "test_predict=clf.predict(X_test)"
   ]
  },
  {
   "cell_type": "code",
   "execution_count": 23,
   "id": "37b1ff1b-2410-40e5-8abd-38f21349c265",
   "metadata": {},
   "outputs": [],
   "source": [
    "#reversing to a original value\n",
    "train_predict=scaler.inverse_transform(train_predict)\n",
    "test_predict=scaler.inverse_transform(test_predict)"
   ]
  },
  {
   "cell_type": "code",
   "execution_count": 24,
   "id": "eed7cc29-b153-40b3-abc8-0de89d09b3e0",
   "metadata": {},
   "outputs": [
    {
     "data": {
      "text/plain": [
       "60.46895335633531"
      ]
     },
     "execution_count": 24,
     "metadata": {},
     "output_type": "execute_result"
    }
   ],
   "source": [
    "#quantifying how well our model's predictions match the actual stock prices.\n",
    "import math\n",
    "from sklearn.metrics import mean_squared_error\n",
    "math.sqrt(mean_squared_error(y_train,train_predict))"
   ]
  },
  {
   "cell_type": "code",
   "execution_count": 25,
   "id": "52f38cd9-b5cd-4df5-a0ae-eb7b239f0d2e",
   "metadata": {},
   "outputs": [
    {
     "data": {
      "text/plain": [
       "133.57230784234198"
      ]
     },
     "execution_count": 25,
     "metadata": {},
     "output_type": "execute_result"
    }
   ],
   "source": [
    "math.sqrt(mean_squared_error(y_test,test_predict))"
   ]
  },
  {
   "cell_type": "code",
   "execution_count": 26,
   "id": "c2fb86f3-3dd0-4695-a3a9-e380a50c97a0",
   "metadata": {},
   "outputs": [
    {
     "name": "stdout",
     "output_type": "stream",
     "text": [
      "54.259423556509944 294.3055992246515\n"
     ]
    }
   ],
   "source": [
    "from sklearn.metrics import mean_absolute_error,mean_absolute_percentage_error\n",
    "mae = mean_absolute_error(y_train,train_predict)\n",
    "maep = mean_absolute_percentage_error(y_train,train_predict)\n",
    "print(mae,maep)"
   ]
  },
  {
   "cell_type": "code",
   "execution_count": 27,
   "id": "e5652225-8097-466b-86e4-00400f2cead2",
   "metadata": {},
   "outputs": [
    {
     "name": "stdout",
     "output_type": "stream",
     "text": [
      "133.44874386464699 146.95908231526937\n"
     ]
    }
   ],
   "source": [
    "#Calculating the MAE and MAPE for our model's predictions on the test data to see how well it generalizes to unseen data.\n",
    "mae_pred = mean_absolute_error(y_test,test_predict) \n",
    "maep_pred = mean_absolute_percentage_error(y_test,test_predict)\n",
    "print(mae_pred,maep_pred)"
   ]
  },
  {
   "cell_type": "code",
   "execution_count": 28,
   "id": "82f1ca06-7c55-4ebe-90f2-f4b204ba3f2c",
   "metadata": {},
   "outputs": [
    {
     "data": {
      "image/png": "[encoded data removed]",
      "text/plain": [
       "<Figure size 640x480 with 1 Axes>"
      ]
     },
     "metadata": {},
     "output_type": "display_data"
    }
   ],
   "source": [
    "look_back=450\n",
    "trainPredictPlot = np.empty_like(cop)#with the same shape as the original stock price data\n",
    "trainPredictPlot[:, :] = np.nan\n",
    "trainPredictPlot[look_back:len(train_predict)+look_back, :] = train_predict ##fills with the actual training predictions \n",
    "# shift test predictions for plotting\n",
    "testPredictPlot = np.empty_like(cop)\n",
    "testPredictPlot[:, :] = np.nan\n",
    "testPredictPlot[len(train_predict)+(look_back*2)+1:len(cop)-1, :] = test_predict #Populates to the the corresponding positions.\n",
    "  \n",
    "# plot baseline and predictions\n",
    "plt.plot(scaler.inverse_transform(cop)) #  used to convert back to their original scale\n",
    "plt.plot(trainPredictPlot,label='Train Prediction')\n",
    "plt.plot(testPredictPlot, label='Actual Prediction')\n",
    "plt.legend()\n",
    "plt.show()\n"
   ]
  },
  {
   "cell_type": "code",
   "execution_count": 29,
   "id": "48b06b50-2e4d-464a-97c2-8b828d5c9cf2",
   "metadata": {},
   "outputs": [
    {
     "data": {
      "text/plain": [
       "516"
      ]
     },
     "execution_count": 29,
     "metadata": {},
     "output_type": "execute_result"
    }
   ],
   "source": [
    "len(test_data)"
   ]
  },
  {
   "cell_type": "code",
   "execution_count": 35,
   "id": "45562890-3b8b-4a24-9a80-5fd1f697fc31",
   "metadata": {},
   "outputs": [
    {
     "data": {
      "text/plain": [
       "(1, 450)"
      ]
     },
     "execution_count": 35,
     "metadata": {},
     "output_type": "execute_result"
    }
   ],
   "source": [
    "x_input = test_data[66:].reshape(1,-1)\n",
    "x_input.shape"
   ]
  },
  {
   "cell_type": "code",
   "execution_count": 36,
   "id": "fd160e7a-9210-46ba-8762-97a81764b740",
   "metadata": {},
   "outputs": [],
   "source": [
    "temp_in = list(x_input)\n",
    "temp_in = temp_in[0].tolist()"
   ]
  },
  {
   "cell_type": "code",
   "execution_count": 37,
   "id": "32b56c89-144d-4c81-a60c-570e13f38449",
   "metadata": {},
   "outputs": [
    {
     "data": {
      "text/plain": [
       "[0.6007749475957569,\n",
       " 0.6029981579114527,\n",
       " 0.5998221431747442,\n",
       " 0.6001397446484151,\n",
       " 0.5842596709648732,\n",
       " 0.5524995235977894,\n",
       " 0.5686971987550021,\n",
       " 0.5620275678079146,\n",
       " 0.5601219589658896,\n",
       " 0.567109191386648,\n",
       " 0.5512291177031061,\n",
       " 0.5731436193863939,\n",
       " 0.5610747633869021,\n",
       " 0.555357936860827,\n",
       " 0.5642507781236105,\n",
       " 0.5750492282284189,\n",
       " 0.5686971987550021,\n",
       " 0.5575811471765229,\n",
       " 0.5566283427555104,\n",
       " 0.5696500031760147,\n",
       " 0.5696500031760147,\n",
       " 0.5785428444387982,\n",
       " 0.5648859810709521,\n",
       " 0.5566283427555104,\n",
       " 0.5401130661246267,\n",
       " 0.557263545702852,\n",
       " 0.5486883059137394,\n",
       " 0.5432890808613351,\n",
       " 0.5477355014927269,\n",
       " 0.5194689703360222,\n",
       " 0.5054945054945055,\n",
       " 0.4899320332846344,\n",
       " 0.500412881915772,\n",
       " 0.5159753541256431,\n",
       " 0.5099409261258971,\n",
       " 0.5277266086514641,\n",
       " 0.5429714793876643,\n",
       " 0.5413834720193101,\n",
       " 0.5407482690719685,\n",
       " 0.5226449850727307,\n",
       " 0.523915390967414,\n",
       " 0.5210569777043765,\n",
       " 0.5210569777043765,\n",
       " 0.5175633614939973,\n",
       " 0.5245505939147558,\n",
       " 0.5207393762307057,\n",
       " 0.52613860128311,\n",
       " 0.5216921806517182,\n",
       " 0.5280442101251349,\n",
       " 0.5280442101251349,\n",
       " 0.5471002985453852,\n",
       " 0.5305850219145016,\n",
       " 0.5302674204408308,\n",
       " 0.5280442101251349,\n",
       " 0.5283618115988058,\n",
       " 0.5331258337038683,\n",
       " 0.5505939147557645,\n",
       " 0.5629803722289272,\n",
       " 0.559169154544877,\n",
       " 0.5502763132820936,\n",
       " 0.5683795972813314,\n",
       " 0.5756844311757606,\n",
       " 0.5747316267547481,\n",
       " 0.5620275678079146,\n",
       " 0.5575811471765229,\n",
       " 0.555357936860827,\n",
       " 0.5474179000190561,\n",
       " 0.553452328018802,\n",
       " 0.5550403353871561,\n",
       " 0.555357936860827,\n",
       " 0.5598043574922188,\n",
       " 0.551546719176777,\n",
       " 0.559169154544877,\n",
       " 0.5690148002286731,\n",
       " 0.588706091596265,\n",
       " 0.5966461284380359,\n",
       " 0.6211014419106904,\n",
       " 0.6026805564377818,\n",
       " 0.5915645048593026,\n",
       " 0.5956933240170234,\n",
       " 0.58680048275424,\n",
       " 0.5947405195960109,\n",
       " 0.5915645048593026,\n",
       " 0.6033157593851235,\n",
       " 0.5899764974909484,\n",
       " 0.59061170043829,\n",
       " 0.5953757225433526,\n",
       " 0.5899764974909484,\n",
       " 0.5801308518071524,\n",
       " 0.5690148002286731,\n",
       " 0.5347138410722225,\n",
       " 0.5521819221241187,\n",
       " 0.5912469033856317,\n",
       " 0.5839420694912024,\n",
       " 0.5950581210696817,\n",
       " 0.6007749475957569,\n",
       " 0.6426983421203074,\n",
       " 0.637616718541574,\n",
       " 0.6204662389633487,\n",
       " 0.6255478625420822,\n",
       " 0.6198310360160071,\n",
       " 0.6318998920154989,\n",
       " 0.6401575303309407,\n",
       " 0.6401575303309407,\n",
       " 0.6353935082258781,\n",
       " 0.6503207774884076,\n",
       " 0.6471447627516992,\n",
       " 0.6433335450676491,\n",
       " 0.663024836435241,\n",
       " 0.6700120688559994,\n",
       " 0.6662008511719494,\n",
       " 0.6601664231722035,\n",
       " 0.6500031760147367,\n",
       " 0.6538143936987867,\n",
       " 0.6515911833830909,\n",
       " 0.639522327383599,\n",
       " 0.645556755383345,\n",
       " 0.6604840246458743,\n",
       " 0.6471447627516992,\n",
       " 0.6496855745410658,\n",
       " 0.6312646890681572,\n",
       " 0.5931525122276567,\n",
       " 0.5931525122276567,\n",
       " 0.5918821063329733,\n",
       " 0.5763196341231023,\n",
       " 0.5760020326494315,\n",
       " 0.5791780473861399,\n",
       " 0.5858476783332274,\n",
       " 0.5966461284380359,\n",
       " 0.5982341358063901,\n",
       " 0.5988693387537317,\n",
       " 0.6039509623324653,\n",
       " 0.5912469033856317,\n",
       " 0.5969637299117068,\n",
       " 0.5823540621228482,\n",
       " 0.559169154544877,\n",
       " 0.545512291177031,\n",
       " 0.555357936860827,\n",
       " 0.5499587118084228,\n",
       " 0.5648859810709521,\n",
       " 0.5563107412818395,\n",
       " 0.5617099663342437,\n",
       " 0.5725084164390523,\n",
       " 0.5718732134917105,\n",
       " 0.5636155751762688,\n",
       " 0.5610747633869021,\n",
       " 0.5753668297020899,\n",
       " 0.5524995235977894,\n",
       " 0.5648859810709521,\n",
       " 0.5490059073874103,\n",
       " 0.5505939147557645,\n",
       " 0.5509115162294352,\n",
       " 0.551546719176777,\n",
       " 0.53376103665121,\n",
       " 0.5350314425458934,\n",
       " 0.5363018484405767,\n",
       " 0.5432890808613351,\n",
       " 0.5490059073874103,\n",
       " 0.5464650955980435,\n",
       " 0.5512291177031061,\n",
       " 0.5480531029663978,\n",
       " 0.5518643206504478,\n",
       " 0.5683795972813314,\n",
       " 0.5686971987550021,\n",
       " 0.5680619958076605,\n",
       " 0.5658387854919646,\n",
       " 0.5686971987550021,\n",
       " 0.5718732134917105,\n",
       " 0.5712380105443688,\n",
       " 0.5594867560185479,\n",
       " 0.5617099663342437,\n",
       " 0.565203582544623,\n",
       " 0.5639331766499396,\n",
       " 0.5690148002286731,\n",
       " 0.5709204090706981,\n",
       " 0.5858476783332274,\n",
       " 0.5820364606491774,\n",
       " 0.59061170043829,\n",
       " 0.5753668297020899,\n",
       " 0.5810836562281648,\n",
       " 0.5810836562281648,\n",
       " 0.5791780473861399,\n",
       " 0.5747316267547481,\n",
       " 0.5632979737025979,\n",
       " 0.5693324017023439,\n",
       " 0.5674267928603188,\n",
       " 0.5585339515975354,\n",
       " 0.553452328018802,\n",
       " 0.5499587118084228,\n",
       " 0.5521819221241187,\n",
       " 0.5559931398081687,\n",
       " 0.553452328018802,\n",
       " 0.5512291177031061,\n",
       " 0.5610747633869021,\n",
       " 0.5740964238074064,\n",
       " 0.565203582544623,\n",
       " 0.557263545702852,\n",
       " 0.5582163501238646,\n",
       " 0.5712380105443688,\n",
       " 0.5801308518071524,\n",
       " 0.5775900400177857,\n",
       " 0.5934701137013275,\n",
       " 0.5912469033856317,\n",
       " 0.576954837070444,\n",
       " 0.580766054754494,\n",
       " 0.5912469033856317,\n",
       " 0.608079781490186,\n",
       " 0.6077621800165153,\n",
       " 0.6109381947532236,\n",
       " 0.6099853903322111,\n",
       " 0.6109381947532236,\n",
       " 0.6087149844375278,\n",
       " 0.5909293019119608,\n",
       " 0.5814012577018357,\n",
       " 0.5829892650701899,\n",
       " 0.588706091596265,\n",
       " 0.5937877151749984,\n",
       " 0.5966461284380359,\n",
       " 0.6036333608587943,\n",
       " 0.5991869402274027,\n",
       " 0.6026805564377818,\n",
       " 0.6007749475957569,\n",
       " 0.5941053166486692,\n",
       " 0.6176078257003113,\n",
       " 0.6166550212792987,\n",
       " 0.6137966080162612,\n",
       " 0.6147494124372737,\n",
       " 0.6293590802261323,\n",
       " 0.6331702979101823,\n",
       " 0.6258654640157529,\n",
       " 0.6265006669630947,\n",
       " 0.6280886743314489,\n",
       " 0.6258654640157529,\n",
       " 0.6188782315949946,\n",
       " 0.6426983421203074,\n",
       " 0.6471447627516992,\n",
       " 0.6461919583306867,\n",
       " 0.65127358190942,\n",
       " 0.6674712570666328,\n",
       " 0.6677888585403036,\n",
       " 0.6407927332782825,\n",
       " 0.6360287111732198,\n",
       " 0.6411103347519532,\n",
       " 0.6401575303309407,\n",
       " 0.635711109699549,\n",
       " 0.6487327701200534,\n",
       " 0.64746236422537,\n",
       " 0.649367973067395,\n",
       " 0.635711109699549,\n",
       " 0.6217366448580322,\n",
       " 0.6223718478053738,\n",
       " 0.6207838404370196,\n",
       " 0.6277710728577781,\n",
       " 0.6318998920154989,\n",
       " 0.6407927332782825,\n",
       " 0.6363463126468907,\n",
       " 0.6277710728577781,\n",
       " 0.6322174934891698,\n",
       " 0.6446039509623325,\n",
       " 0.6608016261195452,\n",
       " 0.6658832496982786,\n",
       " 0.6922441720129581,\n",
       " 0.7220987105380169,\n",
       " 0.721781109064346,\n",
       " 0.7084418471701708,\n",
       " 0.7119354633805501,\n",
       " 0.7078066442228291,\n",
       " 0.7182874928539669,\n",
       " 0.7046306294861208,\n",
       " 0.7081242456965001,\n",
       " 0.721781109064346,\n",
       " 0.7233691164327002,\n",
       " 0.713841072222575,\n",
       " 0.7001842088547291,\n",
       " 0.6970081941180206,\n",
       " 0.6903385631709331,\n",
       " 0.694467382328654,\n",
       " 0.7039954265387791,\n",
       " 0.6992314044337166,\n",
       " 0.6906561646446039,\n",
       " 0.7039954265387791,\n",
       " 0.698278600012704,\n",
       " 0.6811281204344788,\n",
       " 0.6808105189608079,\n",
       " 0.6849393381185289,\n",
       " 0.6719176776980245,\n",
       " 0.6811281204344788,\n",
       " 0.678904910118783,\n",
       " 0.6849393381185289,\n",
       " 0.6795401130661246,\n",
       " 0.6919265705392873,\n",
       " 0.694467382328654,\n",
       " 0.692561773486629,\n",
       " 0.6855745410658706,\n",
       " 0.6671536555929619,\n",
       " 0.64746236422537,\n",
       " 0.6560376040144825,\n",
       " 0.6468271612780283,\n",
       " 0.6468271612780283,\n",
       " 0.6420631391729658,\n",
       " 0.639522327383599,\n",
       " 0.6258654640157529,\n",
       " 0.6353935082258781,\n",
       " 0.6303118846471447,\n",
       " 0.6436511465413199,\n",
       " 0.6452391539096741,\n",
       " 0.641427936225624,\n",
       " 0.6452391539096741,\n",
       " 0.6477799656990408,\n",
       " 0.6528615892777742,\n",
       " 0.6538143936987867,\n",
       " 0.6731880835927079,\n",
       " 0.6773169027504288,\n",
       " 0.6804929174871371,\n",
       " 0.6750936924347328,\n",
       " 0.6871625484342248,\n",
       " 0.6862097440132121,\n",
       " 0.6900209616972622,\n",
       " 0.6852569395921997,\n",
       " 0.6909737661182748,\n",
       " 0.6966905926443498,\n",
       " 0.6976433970653624,\n",
       " 0.7109826589595375,\n",
       " 0.7173346884329543,\n",
       " 0.7211459061170044,\n",
       " 0.7227339134853585,\n",
       " 0.7109826589595375,\n",
       " 0.7059010353808041,\n",
       " 0.7113002604332085,\n",
       " 0.7116178619068791,\n",
       " 0.719875500222321,\n",
       " 0.7236867179063711,\n",
       " 0.7519532490630756,\n",
       " 0.7529060534840881,\n",
       " 0.7452836181159881,\n",
       " 0.7093946515911833,\n",
       " 0.7173346884329543,\n",
       " 0.7335323635901672,\n",
       " 0.7440132122213046,\n",
       " 0.7567172711681381,\n",
       " 0.7627516991678841,\n",
       " 0.7719621419043384,\n",
       " 0.7735501492726926,\n",
       " 0.7719621419043384,\n",
       " 0.7449660166423172,\n",
       " 0.7379787842215587,\n",
       " 0.7341675665375087,\n",
       " 0.7236867179063711,\n",
       " 0.7341675665375087,\n",
       " 0.7370259798005462,\n",
       " 0.7421076033792797,\n",
       " 0.7446484151686464,\n",
       " 0.7421076033792797,\n",
       " 0.757034872641809,\n",
       " 0.7214635075906752,\n",
       " 0.7173346884329543,\n",
       " 0.7379787842215587,\n",
       " 0.7360731753795337,\n",
       " 0.7116178619068791,\n",
       " 0.7436956107476339,\n",
       " 0.7348027694848503,\n",
       " 0.7427428063266214,\n",
       " 0.7408371974845962,\n",
       " 0.7487772343263672,\n",
       " 0.7414724004319381,\n",
       " 0.7662453153782632,\n",
       " 0.7843485993775011,\n",
       " 0.8040398907450931,\n",
       " 0.8024518833767389,\n",
       " 0.7976878612716763,\n",
       " 0.7827605920091469,\n",
       " 0.7579876770628216,\n",
       " 0.760846090325859,\n",
       " 0.7821253890618052,\n",
       " 0.7821253890618052,\n",
       " 0.7891126214825637,\n",
       " 0.7868894111668677,\n",
       " 0.7811725846407928,\n",
       " 0.7992758686400305,\n",
       " 0.811979927586864,\n",
       " 0.8091215143238264,\n",
       " 0.7913358317982595,\n",
       " 0.8011814774820554,\n",
       " 0.7792669757987677,\n",
       " 0.7799021787461093,\n",
       " 0.8377056469542018,\n",
       " 0.8713714031633106,\n",
       " 0.8577145397954646,\n",
       " 0.8497745029536936,\n",
       " 0.8481864955853394,\n",
       " 0.8840754621101442,\n",
       " 0.8599377501111605,\n",
       " 0.8539033221114146,\n",
       " 0.7976878612716763,\n",
       " 0.7900654259035761,\n",
       " 0.7853014037985135,\n",
       " 0.8361176395858476,\n",
       " 0.8300832115861018,\n",
       " 0.8103919202185098,\n",
       " 0.8386584513752143,\n",
       " 0.849456901480023,\n",
       " 0.853268119164073,\n",
       " 0.8551737280060978,\n",
       " 0.8751826208473606,\n",
       " 0.9215524360033032,\n",
       " 0.9310804802134283,\n",
       " 0.9247284507400115,\n",
       " 0.9231404433716572,\n",
       " 0.9228228418979862,\n",
       " 0.9345740964238074,\n",
       " 0.9396557200025408,\n",
       " 0.9336212920027949,\n",
       " 0.923775646318999,\n",
       " 0.9069427682144444,\n",
       " 0.9018611446357112,\n",
       " 0.9018611446357112,\n",
       " 0.9148828050562154,\n",
       " 0.9132947976878611,\n",
       " 0.9088483770564695,\n",
       " 0.9367973067395032,\n",
       " 0.9504541701073492,\n",
       " 0.9383853141078575,\n",
       " 0.9485485612653244,\n",
       " 0.9333036905291241,\n",
       " 0.9482309597916534,\n",
       " 0.9428317347392492,\n",
       " 0.9488661627389949,\n",
       " 0.9285396684240614,\n",
       " 0.9399733214762116,\n",
       " 0.9136123991615321,\n",
       " 0.915835609477228,\n",
       " 0.9259988566346946,\n",
       " 0.9329860890554531,\n",
       " 0.937114908213174,\n",
       " 0.9390205170551991,\n",
       " 0.9482309597916534,\n",
       " 0.9517245760020328,\n",
       " 0.9926951661055707,\n",
       " 0.9860255351584832,\n",
       " 1.0,\n",
       " 0.9958711808422791,\n",
       " 1.0,\n",
       " 0.9961887823159499,\n",
       " 0.992059963158229,\n",
       " 0.9279044654767199,\n",
       " 0.9472781553706409,\n",
       " 0.992059963158229,\n",
       " 0.8948739122149525,\n",
       " 0.9599822143174743,\n",
       " 0.9780854983167122]"
      ]
     },
     "execution_count": 37,
     "metadata": {},
     "output_type": "execute_result"
    }
   ],
   "source": [
    "temp_in"
   ]
  },
  {
   "cell_type": "code",
   "execution_count": 38,
   "id": "7bdd273a-daa4-410e-a6ac-a2e13a0782e9",
   "metadata": {},
   "outputs": [
    {
     "name": "stdout",
     "output_type": "stream",
     "text": [
      "[0.78799206]\n",
      "451\n",
      "1 day input [0.60299816 0.59982214 0.60013974 0.58425967 0.55249952 0.5686972\n",
      " 0.56202757 0.56012196 0.56710919 0.55122912 0.57314362 0.56107476\n",
      " 0.55535794 0.56425078 0.57504923 0.5686972  0.55758115 0.55662834\n",
      " 0.56965    0.56965    0.57854284 0.56488598 0.55662834 0.54011307\n",
      " 0.55726355 0.54868831 0.54328908 0.5477355  0.51946897 0.50549451\n",
      " 0.48993203 0.50041288 0.51597535 0.50994093 0.52772661 0.54297148\n",
      " 0.54138347 0.54074827 0.52264499 0.52391539 0.52105698 0.52105698\n",
      " 0.51756336 0.52455059 0.52073938 0.5261386  0.52169218 0.52804421\n",
      " 0.52804421 0.5471003  0.53058502 0.53026742 0.52804421 0.52836181\n",
      " 0.53312583 0.55059391 0.56298037 0.55916915 0.55027631 0.5683796\n",
      " 0.57568443 0.57473163 0.56202757 0.55758115 0.55535794 0.5474179\n",
      " 0.55345233 0.55504034 0.55535794 0.55980436 0.55154672 0.55916915\n",
      " 0.5690148  0.58870609 0.59664613 0.62110144 0.60268056 0.5915645\n",
      " 0.59569332 0.58680048 0.59474052 0.5915645  0.60331576 0.5899765\n",
      " 0.5906117  0.59537572 0.5899765  0.58013085 0.5690148  0.53471384\n",
      " 0.55218192 0.5912469  0.58394207 0.59505812 0.60077495 0.64269834\n",
      " 0.63761672 0.62046624 0.62554786 0.61983104 0.63189989 0.64015753\n",
      " 0.64015753 0.63539351 0.65032078 0.64714476 0.64333355 0.66302484\n",
      " 0.67001207 0.66620085 0.66016642 0.65000318 0.65381439 0.65159118\n",
      " 0.63952233 0.64555676 0.66048402 0.64714476 0.64968557 0.63126469\n",
      " 0.59315251 0.59315251 0.59188211 0.57631963 0.57600203 0.57917805\n",
      " 0.58584768 0.59664613 0.59823414 0.59886934 0.60395096 0.5912469\n",
      " 0.59696373 0.58235406 0.55916915 0.54551229 0.55535794 0.54995871\n",
      " 0.56488598 0.55631074 0.56170997 0.57250842 0.57187321 0.56361558\n",
      " 0.56107476 0.57536683 0.55249952 0.56488598 0.54900591 0.55059391\n",
      " 0.55091152 0.55154672 0.53376104 0.53503144 0.53630185 0.54328908\n",
      " 0.54900591 0.5464651  0.55122912 0.5480531  0.55186432 0.5683796\n",
      " 0.5686972  0.568062   0.56583879 0.5686972  0.57187321 0.57123801\n",
      " 0.55948676 0.56170997 0.56520358 0.56393318 0.5690148  0.57092041\n",
      " 0.58584768 0.58203646 0.5906117  0.57536683 0.58108366 0.58108366\n",
      " 0.57917805 0.57473163 0.56329797 0.5693324  0.56742679 0.55853395\n",
      " 0.55345233 0.54995871 0.55218192 0.55599314 0.55345233 0.55122912\n",
      " 0.56107476 0.57409642 0.56520358 0.55726355 0.55821635 0.57123801\n",
      " 0.58013085 0.57759004 0.59347011 0.5912469  0.57695484 0.58076605\n",
      " 0.5912469  0.60807978 0.60776218 0.61093819 0.60998539 0.61093819\n",
      " 0.60871498 0.5909293  0.58140126 0.58298927 0.58870609 0.59378772\n",
      " 0.59664613 0.60363336 0.59918694 0.60268056 0.60077495 0.59410532\n",
      " 0.61760783 0.61665502 0.61379661 0.61474941 0.62935908 0.6331703\n",
      " 0.62586546 0.62650067 0.62808867 0.62586546 0.61887823 0.64269834\n",
      " 0.64714476 0.64619196 0.65127358 0.66747126 0.66778886 0.64079273\n",
      " 0.63602871 0.64111033 0.64015753 0.63571111 0.64873277 0.64746236\n",
      " 0.64936797 0.63571111 0.62173664 0.62237185 0.62078384 0.62777107\n",
      " 0.63189989 0.64079273 0.63634631 0.62777107 0.63221749 0.64460395\n",
      " 0.66080163 0.66588325 0.69224417 0.72209871 0.72178111 0.70844185\n",
      " 0.71193546 0.70780664 0.71828749 0.70463063 0.70812425 0.72178111\n",
      " 0.72336912 0.71384107 0.70018421 0.69700819 0.69033856 0.69446738\n",
      " 0.70399543 0.6992314  0.69065616 0.70399543 0.6982786  0.68112812\n",
      " 0.68081052 0.68493934 0.67191768 0.68112812 0.67890491 0.68493934\n",
      " 0.67954011 0.69192657 0.69446738 0.69256177 0.68557454 0.66715366\n",
      " 0.64746236 0.6560376  0.64682716 0.64682716 0.64206314 0.63952233\n",
      " 0.62586546 0.63539351 0.63031188 0.64365115 0.64523915 0.64142794\n",
      " 0.64523915 0.64777997 0.65286159 0.65381439 0.67318808 0.6773169\n",
      " 0.68049292 0.67509369 0.68716255 0.68620974 0.69002096 0.68525694\n",
      " 0.69097377 0.69669059 0.6976434  0.71098266 0.71733469 0.72114591\n",
      " 0.72273391 0.71098266 0.70590104 0.71130026 0.71161786 0.7198755\n",
      " 0.72368672 0.75195325 0.75290605 0.74528362 0.70939465 0.71733469\n",
      " 0.73353236 0.74401321 0.75671727 0.7627517  0.77196214 0.77355015\n",
      " 0.77196214 0.74496602 0.73797878 0.73416757 0.72368672 0.73416757\n",
      " 0.73702598 0.7421076  0.74464842 0.7421076  0.75703487 0.72146351\n",
      " 0.71733469 0.73797878 0.73607318 0.71161786 0.74369561 0.73480277\n",
      " 0.74274281 0.7408372  0.74877723 0.7414724  0.76624532 0.7843486\n",
      " 0.80403989 0.80245188 0.79768786 0.78276059 0.75798768 0.76084609\n",
      " 0.78212539 0.78212539 0.78911262 0.78688941 0.78117258 0.79927587\n",
      " 0.81197993 0.80912151 0.79133583 0.80118148 0.77926698 0.77990218\n",
      " 0.83770565 0.8713714  0.85771454 0.8497745  0.8481865  0.88407546\n",
      " 0.85993775 0.85390332 0.79768786 0.79006543 0.7853014  0.83611764\n",
      " 0.83008321 0.81039192 0.83865845 0.8494569  0.85326812 0.85517373\n",
      " 0.87518262 0.92155244 0.93108048 0.92472845 0.92314044 0.92282284\n",
      " 0.9345741  0.93965572 0.93362129 0.92377565 0.90694277 0.90186114\n",
      " 0.90186114 0.91488281 0.9132948  0.90884838 0.93679731 0.95045417\n",
      " 0.93838531 0.94854856 0.93330369 0.94823096 0.94283173 0.94886616\n",
      " 0.92853967 0.93997332 0.9136124  0.91583561 0.92599886 0.93298609\n",
      " 0.93711491 0.93902052 0.94823096 0.95172458 0.99269517 0.98602554\n",
      " 1.         0.99587118 1.         0.99618878 0.99205996 0.92790447\n",
      " 0.94727816 0.99205996 0.89487391 0.95998221 0.9780855  0.78799206]\n",
      "1 day output [[0.7824441]]\n",
      "2 day input [0.59982214 0.60013974 0.58425967 0.55249952 0.5686972  0.56202757\n",
      " 0.56012196 0.56710919 0.55122912 0.57314362 0.56107476 0.55535794\n",
      " 0.56425078 0.57504923 0.5686972  0.55758115 0.55662834 0.56965\n",
      " 0.56965    0.57854284 0.56488598 0.55662834 0.54011307 0.55726355\n",
      " 0.54868831 0.54328908 0.5477355  0.51946897 0.50549451 0.48993203\n",
      " 0.50041288 0.51597535 0.50994093 0.52772661 0.54297148 0.54138347\n",
      " 0.54074827 0.52264499 0.52391539 0.52105698 0.52105698 0.51756336\n",
      " 0.52455059 0.52073938 0.5261386  0.52169218 0.52804421 0.52804421\n",
      " 0.5471003  0.53058502 0.53026742 0.52804421 0.52836181 0.53312583\n",
      " 0.55059391 0.56298037 0.55916915 0.55027631 0.5683796  0.57568443\n",
      " 0.57473163 0.56202757 0.55758115 0.55535794 0.5474179  0.55345233\n",
      " 0.55504034 0.55535794 0.55980436 0.55154672 0.55916915 0.5690148\n",
      " 0.58870609 0.59664613 0.62110144 0.60268056 0.5915645  0.59569332\n",
      " 0.58680048 0.59474052 0.5915645  0.60331576 0.5899765  0.5906117\n",
      " 0.59537572 0.5899765  0.58013085 0.5690148  0.53471384 0.55218192\n",
      " 0.5912469  0.58394207 0.59505812 0.60077495 0.64269834 0.63761672\n",
      " 0.62046624 0.62554786 0.61983104 0.63189989 0.64015753 0.64015753\n",
      " 0.63539351 0.65032078 0.64714476 0.64333355 0.66302484 0.67001207\n",
      " 0.66620085 0.66016642 0.65000318 0.65381439 0.65159118 0.63952233\n",
      " 0.64555676 0.66048402 0.64714476 0.64968557 0.63126469 0.59315251\n",
      " 0.59315251 0.59188211 0.57631963 0.57600203 0.57917805 0.58584768\n",
      " 0.59664613 0.59823414 0.59886934 0.60395096 0.5912469  0.59696373\n",
      " 0.58235406 0.55916915 0.54551229 0.55535794 0.54995871 0.56488598\n",
      " 0.55631074 0.56170997 0.57250842 0.57187321 0.56361558 0.56107476\n",
      " 0.57536683 0.55249952 0.56488598 0.54900591 0.55059391 0.55091152\n",
      " 0.55154672 0.53376104 0.53503144 0.53630185 0.54328908 0.54900591\n",
      " 0.5464651  0.55122912 0.5480531  0.55186432 0.5683796  0.5686972\n",
      " 0.568062   0.56583879 0.5686972  0.57187321 0.57123801 0.55948676\n",
      " 0.56170997 0.56520358 0.56393318 0.5690148  0.57092041 0.58584768\n",
      " 0.58203646 0.5906117  0.57536683 0.58108366 0.58108366 0.57917805\n",
      " 0.57473163 0.56329797 0.5693324  0.56742679 0.55853395 0.55345233\n",
      " 0.54995871 0.55218192 0.55599314 0.55345233 0.55122912 0.56107476\n",
      " 0.57409642 0.56520358 0.55726355 0.55821635 0.57123801 0.58013085\n",
      " 0.57759004 0.59347011 0.5912469  0.57695484 0.58076605 0.5912469\n",
      " 0.60807978 0.60776218 0.61093819 0.60998539 0.61093819 0.60871498\n",
      " 0.5909293  0.58140126 0.58298927 0.58870609 0.59378772 0.59664613\n",
      " 0.60363336 0.59918694 0.60268056 0.60077495 0.59410532 0.61760783\n",
      " 0.61665502 0.61379661 0.61474941 0.62935908 0.6331703  0.62586546\n",
      " 0.62650067 0.62808867 0.62586546 0.61887823 0.64269834 0.64714476\n",
      " 0.64619196 0.65127358 0.66747126 0.66778886 0.64079273 0.63602871\n",
      " 0.64111033 0.64015753 0.63571111 0.64873277 0.64746236 0.64936797\n",
      " 0.63571111 0.62173664 0.62237185 0.62078384 0.62777107 0.63189989\n",
      " 0.64079273 0.63634631 0.62777107 0.63221749 0.64460395 0.66080163\n",
      " 0.66588325 0.69224417 0.72209871 0.72178111 0.70844185 0.71193546\n",
      " 0.70780664 0.71828749 0.70463063 0.70812425 0.72178111 0.72336912\n",
      " 0.71384107 0.70018421 0.69700819 0.69033856 0.69446738 0.70399543\n",
      " 0.6992314  0.69065616 0.70399543 0.6982786  0.68112812 0.68081052\n",
      " 0.68493934 0.67191768 0.68112812 0.67890491 0.68493934 0.67954011\n",
      " 0.69192657 0.69446738 0.69256177 0.68557454 0.66715366 0.64746236\n",
      " 0.6560376  0.64682716 0.64682716 0.64206314 0.63952233 0.62586546\n",
      " 0.63539351 0.63031188 0.64365115 0.64523915 0.64142794 0.64523915\n",
      " 0.64777997 0.65286159 0.65381439 0.67318808 0.6773169  0.68049292\n",
      " 0.67509369 0.68716255 0.68620974 0.69002096 0.68525694 0.69097377\n",
      " 0.69669059 0.6976434  0.71098266 0.71733469 0.72114591 0.72273391\n",
      " 0.71098266 0.70590104 0.71130026 0.71161786 0.7198755  0.72368672\n",
      " 0.75195325 0.75290605 0.74528362 0.70939465 0.71733469 0.73353236\n",
      " 0.74401321 0.75671727 0.7627517  0.77196214 0.77355015 0.77196214\n",
      " 0.74496602 0.73797878 0.73416757 0.72368672 0.73416757 0.73702598\n",
      " 0.7421076  0.74464842 0.7421076  0.75703487 0.72146351 0.71733469\n",
      " 0.73797878 0.73607318 0.71161786 0.74369561 0.73480277 0.74274281\n",
      " 0.7408372  0.74877723 0.7414724  0.76624532 0.7843486  0.80403989\n",
      " 0.80245188 0.79768786 0.78276059 0.75798768 0.76084609 0.78212539\n",
      " 0.78212539 0.78911262 0.78688941 0.78117258 0.79927587 0.81197993\n",
      " 0.80912151 0.79133583 0.80118148 0.77926698 0.77990218 0.83770565\n",
      " 0.8713714  0.85771454 0.8497745  0.8481865  0.88407546 0.85993775\n",
      " 0.85390332 0.79768786 0.79006543 0.7853014  0.83611764 0.83008321\n",
      " 0.81039192 0.83865845 0.8494569  0.85326812 0.85517373 0.87518262\n",
      " 0.92155244 0.93108048 0.92472845 0.92314044 0.92282284 0.9345741\n",
      " 0.93965572 0.93362129 0.92377565 0.90694277 0.90186114 0.90186114\n",
      " 0.91488281 0.9132948  0.90884838 0.93679731 0.95045417 0.93838531\n",
      " 0.94854856 0.93330369 0.94823096 0.94283173 0.94886616 0.92853967\n",
      " 0.93997332 0.9136124  0.91583561 0.92599886 0.93298609 0.93711491\n",
      " 0.93902052 0.94823096 0.95172458 0.99269517 0.98602554 1.\n",
      " 0.99587118 1.         0.99618878 0.99205996 0.92790447 0.94727816\n",
      " 0.99205996 0.89487391 0.95998221 0.9780855  0.78799206 0.78244412]\n",
      "2 day output [[0.77342606]]\n",
      "3 day input [0.60013974 0.58425967 0.55249952 0.5686972  0.56202757 0.56012196\n",
      " 0.56710919 0.55122912 0.57314362 0.56107476 0.55535794 0.56425078\n",
      " 0.57504923 0.5686972  0.55758115 0.55662834 0.56965    0.56965\n",
      " 0.57854284 0.56488598 0.55662834 0.54011307 0.55726355 0.54868831\n",
      " 0.54328908 0.5477355  0.51946897 0.50549451 0.48993203 0.50041288\n",
      " 0.51597535 0.50994093 0.52772661 0.54297148 0.54138347 0.54074827\n",
      " 0.52264499 0.52391539 0.52105698 0.52105698 0.51756336 0.52455059\n",
      " 0.52073938 0.5261386  0.52169218 0.52804421 0.52804421 0.5471003\n",
      " 0.53058502 0.53026742 0.52804421 0.52836181 0.53312583 0.55059391\n",
      " 0.56298037 0.55916915 0.55027631 0.5683796  0.57568443 0.57473163\n",
      " 0.56202757 0.55758115 0.55535794 0.5474179  0.55345233 0.55504034\n",
      " 0.55535794 0.55980436 0.55154672 0.55916915 0.5690148  0.58870609\n",
      " 0.59664613 0.62110144 0.60268056 0.5915645  0.59569332 0.58680048\n",
      " 0.59474052 0.5915645  0.60331576 0.5899765  0.5906117  0.59537572\n",
      " 0.5899765  0.58013085 0.5690148  0.53471384 0.55218192 0.5912469\n",
      " 0.58394207 0.59505812 0.60077495 0.64269834 0.63761672 0.62046624\n",
      " 0.62554786 0.61983104 0.63189989 0.64015753 0.64015753 0.63539351\n",
      " 0.65032078 0.64714476 0.64333355 0.66302484 0.67001207 0.66620085\n",
      " 0.66016642 0.65000318 0.65381439 0.65159118 0.63952233 0.64555676\n",
      " 0.66048402 0.64714476 0.64968557 0.63126469 0.59315251 0.59315251\n",
      " 0.59188211 0.57631963 0.57600203 0.57917805 0.58584768 0.59664613\n",
      " 0.59823414 0.59886934 0.60395096 0.5912469  0.59696373 0.58235406\n",
      " 0.55916915 0.54551229 0.55535794 0.54995871 0.56488598 0.55631074\n",
      " 0.56170997 0.57250842 0.57187321 0.56361558 0.56107476 0.57536683\n",
      " 0.55249952 0.56488598 0.54900591 0.55059391 0.55091152 0.55154672\n",
      " 0.53376104 0.53503144 0.53630185 0.54328908 0.54900591 0.5464651\n",
      " 0.55122912 0.5480531  0.55186432 0.5683796  0.5686972  0.568062\n",
      " 0.56583879 0.5686972  0.57187321 0.57123801 0.55948676 0.56170997\n",
      " 0.56520358 0.56393318 0.5690148  0.57092041 0.58584768 0.58203646\n",
      " 0.5906117  0.57536683 0.58108366 0.58108366 0.57917805 0.57473163\n",
      " 0.56329797 0.5693324  0.56742679 0.55853395 0.55345233 0.54995871\n",
      " 0.55218192 0.55599314 0.55345233 0.55122912 0.56107476 0.57409642\n",
      " 0.56520358 0.55726355 0.55821635 0.57123801 0.58013085 0.57759004\n",
      " 0.59347011 0.5912469  0.57695484 0.58076605 0.5912469  0.60807978\n",
      " 0.60776218 0.61093819 0.60998539 0.61093819 0.60871498 0.5909293\n",
      " 0.58140126 0.58298927 0.58870609 0.59378772 0.59664613 0.60363336\n",
      " 0.59918694 0.60268056 0.60077495 0.59410532 0.61760783 0.61665502\n",
      " 0.61379661 0.61474941 0.62935908 0.6331703  0.62586546 0.62650067\n",
      " 0.62808867 0.62586546 0.61887823 0.64269834 0.64714476 0.64619196\n",
      " 0.65127358 0.66747126 0.66778886 0.64079273 0.63602871 0.64111033\n",
      " 0.64015753 0.63571111 0.64873277 0.64746236 0.64936797 0.63571111\n",
      " 0.62173664 0.62237185 0.62078384 0.62777107 0.63189989 0.64079273\n",
      " 0.63634631 0.62777107 0.63221749 0.64460395 0.66080163 0.66588325\n",
      " 0.69224417 0.72209871 0.72178111 0.70844185 0.71193546 0.70780664\n",
      " 0.71828749 0.70463063 0.70812425 0.72178111 0.72336912 0.71384107\n",
      " 0.70018421 0.69700819 0.69033856 0.69446738 0.70399543 0.6992314\n",
      " 0.69065616 0.70399543 0.6982786  0.68112812 0.68081052 0.68493934\n",
      " 0.67191768 0.68112812 0.67890491 0.68493934 0.67954011 0.69192657\n",
      " 0.69446738 0.69256177 0.68557454 0.66715366 0.64746236 0.6560376\n",
      " 0.64682716 0.64682716 0.64206314 0.63952233 0.62586546 0.63539351\n",
      " 0.63031188 0.64365115 0.64523915 0.64142794 0.64523915 0.64777997\n",
      " 0.65286159 0.65381439 0.67318808 0.6773169  0.68049292 0.67509369\n",
      " 0.68716255 0.68620974 0.69002096 0.68525694 0.69097377 0.69669059\n",
      " 0.6976434  0.71098266 0.71733469 0.72114591 0.72273391 0.71098266\n",
      " 0.70590104 0.71130026 0.71161786 0.7198755  0.72368672 0.75195325\n",
      " 0.75290605 0.74528362 0.70939465 0.71733469 0.73353236 0.74401321\n",
      " 0.75671727 0.7627517  0.77196214 0.77355015 0.77196214 0.74496602\n",
      " 0.73797878 0.73416757 0.72368672 0.73416757 0.73702598 0.7421076\n",
      " 0.74464842 0.7421076  0.75703487 0.72146351 0.71733469 0.73797878\n",
      " 0.73607318 0.71161786 0.74369561 0.73480277 0.74274281 0.7408372\n",
      " 0.74877723 0.7414724  0.76624532 0.7843486  0.80403989 0.80245188\n",
      " 0.79768786 0.78276059 0.75798768 0.76084609 0.78212539 0.78212539\n",
      " 0.78911262 0.78688941 0.78117258 0.79927587 0.81197993 0.80912151\n",
      " 0.79133583 0.80118148 0.77926698 0.77990218 0.83770565 0.8713714\n",
      " 0.85771454 0.8497745  0.8481865  0.88407546 0.85993775 0.85390332\n",
      " 0.79768786 0.79006543 0.7853014  0.83611764 0.83008321 0.81039192\n",
      " 0.83865845 0.8494569  0.85326812 0.85517373 0.87518262 0.92155244\n",
      " 0.93108048 0.92472845 0.92314044 0.92282284 0.9345741  0.93965572\n",
      " 0.93362129 0.92377565 0.90694277 0.90186114 0.90186114 0.91488281\n",
      " 0.9132948  0.90884838 0.93679731 0.95045417 0.93838531 0.94854856\n",
      " 0.93330369 0.94823096 0.94283173 0.94886616 0.92853967 0.93997332\n",
      " 0.9136124  0.91583561 0.92599886 0.93298609 0.93711491 0.93902052\n",
      " 0.94823096 0.95172458 0.99269517 0.98602554 1.         0.99587118\n",
      " 1.         0.99618878 0.99205996 0.92790447 0.94727816 0.99205996\n",
      " 0.89487391 0.95998221 0.9780855  0.78799206 0.78244412 0.77342606]\n",
      "3 day output [[0.76115364]]\n",
      "4 day input [0.58425967 0.55249952 0.5686972  0.56202757 0.56012196 0.56710919\n",
      " 0.55122912 0.57314362 0.56107476 0.55535794 0.56425078 0.57504923\n",
      " 0.5686972  0.55758115 0.55662834 0.56965    0.56965    0.57854284\n",
      " 0.56488598 0.55662834 0.54011307 0.55726355 0.54868831 0.54328908\n",
      " 0.5477355  0.51946897 0.50549451 0.48993203 0.50041288 0.51597535\n",
      " 0.50994093 0.52772661 0.54297148 0.54138347 0.54074827 0.52264499\n",
      " 0.52391539 0.52105698 0.52105698 0.51756336 0.52455059 0.52073938\n",
      " 0.5261386  0.52169218 0.52804421 0.52804421 0.5471003  0.53058502\n",
      " 0.53026742 0.52804421 0.52836181 0.53312583 0.55059391 0.56298037\n",
      " 0.55916915 0.55027631 0.5683796  0.57568443 0.57473163 0.56202757\n",
      " 0.55758115 0.55535794 0.5474179  0.55345233 0.55504034 0.55535794\n",
      " 0.55980436 0.55154672 0.55916915 0.5690148  0.58870609 0.59664613\n",
      " 0.62110144 0.60268056 0.5915645  0.59569332 0.58680048 0.59474052\n",
      " 0.5915645  0.60331576 0.5899765  0.5906117  0.59537572 0.5899765\n",
      " 0.58013085 0.5690148  0.53471384 0.55218192 0.5912469  0.58394207\n",
      " 0.59505812 0.60077495 0.64269834 0.63761672 0.62046624 0.62554786\n",
      " 0.61983104 0.63189989 0.64015753 0.64015753 0.63539351 0.65032078\n",
      " 0.64714476 0.64333355 0.66302484 0.67001207 0.66620085 0.66016642\n",
      " 0.65000318 0.65381439 0.65159118 0.63952233 0.64555676 0.66048402\n",
      " 0.64714476 0.64968557 0.63126469 0.59315251 0.59315251 0.59188211\n",
      " 0.57631963 0.57600203 0.57917805 0.58584768 0.59664613 0.59823414\n",
      " 0.59886934 0.60395096 0.5912469  0.59696373 0.58235406 0.55916915\n",
      " 0.54551229 0.55535794 0.54995871 0.56488598 0.55631074 0.56170997\n",
      " 0.57250842 0.57187321 0.56361558 0.56107476 0.57536683 0.55249952\n",
      " 0.56488598 0.54900591 0.55059391 0.55091152 0.55154672 0.53376104\n",
      " 0.53503144 0.53630185 0.54328908 0.54900591 0.5464651  0.55122912\n",
      " 0.5480531  0.55186432 0.5683796  0.5686972  0.568062   0.56583879\n",
      " 0.5686972  0.57187321 0.57123801 0.55948676 0.56170997 0.56520358\n",
      " 0.56393318 0.5690148  0.57092041 0.58584768 0.58203646 0.5906117\n",
      " 0.57536683 0.58108366 0.58108366 0.57917805 0.57473163 0.56329797\n",
      " 0.5693324  0.56742679 0.55853395 0.55345233 0.54995871 0.55218192\n",
      " 0.55599314 0.55345233 0.55122912 0.56107476 0.57409642 0.56520358\n",
      " 0.55726355 0.55821635 0.57123801 0.58013085 0.57759004 0.59347011\n",
      " 0.5912469  0.57695484 0.58076605 0.5912469  0.60807978 0.60776218\n",
      " 0.61093819 0.60998539 0.61093819 0.60871498 0.5909293  0.58140126\n",
      " 0.58298927 0.58870609 0.59378772 0.59664613 0.60363336 0.59918694\n",
      " 0.60268056 0.60077495 0.59410532 0.61760783 0.61665502 0.61379661\n",
      " 0.61474941 0.62935908 0.6331703  0.62586546 0.62650067 0.62808867\n",
      " 0.62586546 0.61887823 0.64269834 0.64714476 0.64619196 0.65127358\n",
      " 0.66747126 0.66778886 0.64079273 0.63602871 0.64111033 0.64015753\n",
      " 0.63571111 0.64873277 0.64746236 0.64936797 0.63571111 0.62173664\n",
      " 0.62237185 0.62078384 0.62777107 0.63189989 0.64079273 0.63634631\n",
      " 0.62777107 0.63221749 0.64460395 0.66080163 0.66588325 0.69224417\n",
      " 0.72209871 0.72178111 0.70844185 0.71193546 0.70780664 0.71828749\n",
      " 0.70463063 0.70812425 0.72178111 0.72336912 0.71384107 0.70018421\n",
      " 0.69700819 0.69033856 0.69446738 0.70399543 0.6992314  0.69065616\n",
      " 0.70399543 0.6982786  0.68112812 0.68081052 0.68493934 0.67191768\n",
      " 0.68112812 0.67890491 0.68493934 0.67954011 0.69192657 0.69446738\n",
      " 0.69256177 0.68557454 0.66715366 0.64746236 0.6560376  0.64682716\n",
      " 0.64682716 0.64206314 0.63952233 0.62586546 0.63539351 0.63031188\n",
      " 0.64365115 0.64523915 0.64142794 0.64523915 0.64777997 0.65286159\n",
      " 0.65381439 0.67318808 0.6773169  0.68049292 0.67509369 0.68716255\n",
      " 0.68620974 0.69002096 0.68525694 0.69097377 0.69669059 0.6976434\n",
      " 0.71098266 0.71733469 0.72114591 0.72273391 0.71098266 0.70590104\n",
      " 0.71130026 0.71161786 0.7198755  0.72368672 0.75195325 0.75290605\n",
      " 0.74528362 0.70939465 0.71733469 0.73353236 0.74401321 0.75671727\n",
      " 0.7627517  0.77196214 0.77355015 0.77196214 0.74496602 0.73797878\n",
      " 0.73416757 0.72368672 0.73416757 0.73702598 0.7421076  0.74464842\n",
      " 0.7421076  0.75703487 0.72146351 0.71733469 0.73797878 0.73607318\n",
      " 0.71161786 0.74369561 0.73480277 0.74274281 0.7408372  0.74877723\n",
      " 0.7414724  0.76624532 0.7843486  0.80403989 0.80245188 0.79768786\n",
      " 0.78276059 0.75798768 0.76084609 0.78212539 0.78212539 0.78911262\n",
      " 0.78688941 0.78117258 0.79927587 0.81197993 0.80912151 0.79133583\n",
      " 0.80118148 0.77926698 0.77990218 0.83770565 0.8713714  0.85771454\n",
      " 0.8497745  0.8481865  0.88407546 0.85993775 0.85390332 0.79768786\n",
      " 0.79006543 0.7853014  0.83611764 0.83008321 0.81039192 0.83865845\n",
      " 0.8494569  0.85326812 0.85517373 0.87518262 0.92155244 0.93108048\n",
      " 0.92472845 0.92314044 0.92282284 0.9345741  0.93965572 0.93362129\n",
      " 0.92377565 0.90694277 0.90186114 0.90186114 0.91488281 0.9132948\n",
      " 0.90884838 0.93679731 0.95045417 0.93838531 0.94854856 0.93330369\n",
      " 0.94823096 0.94283173 0.94886616 0.92853967 0.93997332 0.9136124\n",
      " 0.91583561 0.92599886 0.93298609 0.93711491 0.93902052 0.94823096\n",
      " 0.95172458 0.99269517 0.98602554 1.         0.99587118 1.\n",
      " 0.99618878 0.99205996 0.92790447 0.94727816 0.99205996 0.89487391\n",
      " 0.95998221 0.9780855  0.78799206 0.78244412 0.77342606 0.76115364]\n",
      "4 day output [[0.7462626]]\n",
      "[[0.7879920601844788], [0.7824441194534302], [0.7734260559082031], [0.7611536383628845], [0.7462626099586487]]\n"
     ]
    }
   ],
   "source": [
    "lst_output=[]\n",
    "n_steps=450\n",
    "i=0\n",
    "while(i<5):\n",
    "    \n",
    "    if(len(temp_in)>450):\n",
    "        #print(temp_input)\n",
    "        x_input=np.array(temp_in[1:])\n",
    "        print(\"{} day input {}\".format(i,x_input))\n",
    "        x_input=x_input.reshape(1,-1) #generating accurate predictions \n",
    "        x_input = x_input.reshape((1, n_steps, 1)) \n",
    "        #print(x_input)\n",
    "        yhat = clf.predict(x_input, verbose=0) #The verbose=0 suppresses the progress bar output.\n",
    "        print(\"{} day output {}\".format(i,yhat))\n",
    "        temp_in.extend(yhat[0].tolist())\n",
    "        temp_in=temp_in[1:]\n",
    "        #print(temp_input)\n",
    "        lst_output.extend(yhat.tolist())\n",
    "        i=i+1\n",
    "    else:\n",
    "        x_input = x_input.reshape((1, n_steps,1))\n",
    "        yhat = clf.predict(x_input, verbose=0)\n",
    "        print(yhat[0])\n",
    "        temp_in.extend(yhat[0].tolist())\n",
    "        print(len(temp_in))\n",
    "        lst_output.extend(yhat.tolist())\n",
    "        i=i+1 #similar to if but except it doesn't remove the first element from temp_in\n",
    "    \n",
    "\n",
    "print(lst_output)"
   ]
  },
  {
   "cell_type": "code",
   "execution_count": 39,
   "id": "72c66207-aa39-4c3c-ba72-818941b0e3fb",
   "metadata": {},
   "outputs": [
    {
     "name": "stdout",
     "output_type": "stream",
     "text": [
      "[[142.12359003]\n",
      " [141.25017773]\n",
      " [139.83046398]\n",
      " [137.89841729]\n",
      " [135.55412269]]\n"
     ]
    }
   ],
   "source": [
    "scaled_pred = scaler.inverse_transform(lst_output)\n",
    "print(scaled_pred)"
   ]
  },
  {
   "cell_type": "code",
   "execution_count": 40,
   "id": "4328436a-52a9-406c-a7af-eb5b22be4b75",
   "metadata": {},
   "outputs": [
    {
     "data": {
      "text/plain": [
       "numpy.ndarray"
      ]
     },
     "execution_count": 40,
     "metadata": {},
     "output_type": "execute_result"
    }
   ],
   "source": [
    "type(scaled_pred)"
   ]
  },
  {
   "cell_type": "code",
   "execution_count": 41,
   "id": "f17ce2f8-afe9-41b0-89fe-6d34fa1d1e2a",
   "metadata": {},
   "outputs": [
    {
     "data": {
      "text/html": [
       "<div>\n",
       "<style scoped>\n",
       "    .dataframe tbody tr th:only-of-type {\n",
       "        vertical-align: middle;\n",
       "    }\n",
       "\n",
       "    .dataframe tbody tr th {\n",
       "        vertical-align: top;\n",
       "    }\n",
       "\n",
       "    .dataframe thead th {\n",
       "        text-align: right;\n",
       "    }\n",
       "</style>\n",
       "<table border=\"1\" class=\"dataframe\">\n",
       "  <thead>\n",
       "    <tr style=\"text-align: right;\">\n",
       "      <th></th>\n",
       "      <th>FuturePrice</th>\n",
       "    </tr>\n",
       "  </thead>\n",
       "  <tbody>\n",
       "    <tr>\n",
       "      <th>0</th>\n",
       "      <td>142.123590</td>\n",
       "    </tr>\n",
       "    <tr>\n",
       "      <th>1</th>\n",
       "      <td>141.250178</td>\n",
       "    </tr>\n",
       "    <tr>\n",
       "      <th>2</th>\n",
       "      <td>139.830464</td>\n",
       "    </tr>\n",
       "    <tr>\n",
       "      <th>3</th>\n",
       "      <td>137.898417</td>\n",
       "    </tr>\n",
       "    <tr>\n",
       "      <th>4</th>\n",
       "      <td>135.554123</td>\n",
       "    </tr>\n",
       "  </tbody>\n",
       "</table>\n",
       "</div>"
      ],
      "text/plain": [
       "   FuturePrice\n",
       "0   142.123590\n",
       "1   141.250178\n",
       "2   139.830464\n",
       "3   137.898417\n",
       "4   135.554123"
      ]
     },
     "execution_count": 41,
     "metadata": {},
     "output_type": "execute_result"
    }
   ],
   "source": [
    "newDf = pd.DataFrame(data=scaled_pred,columns=['FuturePrice'])\n",
    "newDf"
   ]
  },
  {
   "cell_type": "code",
   "execution_count": 42,
   "id": "cb7d10eb-3a3e-4889-bf2d-53f42679c9a1",
   "metadata": {},
   "outputs": [],
   "source": [
    "newDf.to_csv('pred.csv',index=True)"
   ]
  },
  {
   "cell_type": "code",
   "execution_count": 43,
   "id": "b5e95fca-128f-4642-96d8-2d6830f5d769",
   "metadata": {},
   "outputs": [
    {
     "data": {
      "text/plain": [
       "2580"
      ]
     },
     "execution_count": 43,
     "metadata": {},
     "output_type": "execute_result"
    }
   ],
   "source": [
    "len(cop)"
   ]
  },
  {
   "cell_type": "code",
   "execution_count": 44,
   "id": "97ac8077-e98b-49b8-bb29-70ad82ba248a",
   "metadata": {},
   "outputs": [],
   "source": [
    "day_new=np.arange(1,451)\n",
    "day_pred=np.arange(451,456)"
   ]
  },
  {
   "cell_type": "code",
   "execution_count": 45,
   "id": "e437b67e-bfb8-4322-afb1-cc2502be437f",
   "metadata": {},
   "outputs": [
    {
     "data": {
      "text/plain": [
       "[<matplotlib.lines.Line2D at 0x2c1b163cb90>]"
      ]
     },
     "execution_count": 45,
     "metadata": {},
     "output_type": "execute_result"
    },
    {
     "data": {
      "image/png": "[encoded data removed]",
      "text/plain": [
       "<Figure size 640x480 with 1 Axes>"
      ]
     },
     "metadata": {},
     "output_type": "display_data"
    }
   ],
   "source": [
    "plt.plot(day_new,scaler.inverse_transform(cop[2130:]))\n",
    "plt.plot(day_pred,scaler.inverse_transform(lst_output))"
   ]
  }
 ],
 "metadata": {
  "kernelspec": {
   "display_name": "Python 3 (ipykernel)",
   "language": "python",
   "name": "python3"
  },
  "language_info": {
   "codemirror_mode": {
    "name": "ipython",
    "version": 3
   },
   "file_extension": ".py",
   "mimetype": "text/x-python",
   "name": "python",
   "nbconvert_exporter": "python",
   "pygments_lexer": "ipython3",
   "version": "3.12.0"
  }
 },
 "nbformat": 4,
 "nbformat_minor": 5
}
